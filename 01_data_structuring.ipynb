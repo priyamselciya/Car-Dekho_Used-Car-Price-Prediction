{
 "cells": [
  {
   "cell_type": "code",
   "execution_count": 1,
   "metadata": {},
   "outputs": [],
   "source": [
    "# import packages\n",
    "import pandas as pd\n",
    "from pandas import json_normalize"
   ]
  },
  {
   "cell_type": "code",
   "execution_count": 2,
   "metadata": {},
   "outputs": [],
   "source": [
    "file_paths = {\n",
    "    'Bangalore': 'Raw_Datasets/bangalore_cars.xlsx',\n",
    "    'Chennai': 'Raw_Datasets/chennai_cars.xlsx',\n",
    "    'Delhi': 'Raw_Datasets/delhi_cars.xlsx',\n",
    "    'Hyderabad': 'Raw_Datasets/hyderabad_cars.xlsx',\n",
    "    'Jaipur': 'Raw_Datasets/jaipur_cars.xlsx',\n",
    "    'Kolkata': 'Raw_Datasets/kolkata_cars.xlsx'\n",
    "}"
   ]
  },
  {
   "cell_type": "code",
   "execution_count": 6,
   "metadata": {},
   "outputs": [],
   "source": [
    "dataframes = []\n",
    "\n",
    "def add_city_and_concatenate(file_paths):\n",
    "    for city,path in file_paths.items():\n",
    "        df = pd.read_excel(path)\n",
    "        df[\"city\"] = city\n",
    "        dataframes.append(df)\n",
    "    return pd.concat(dataframes,ignore_index=True)\n",
    "\n",
    "concatenated_df = add_city_and_concatenate(file_paths)\n"
   ]
  },
  {
   "cell_type": "code",
   "execution_count": 7,
   "metadata": {},
   "outputs": [],
   "source": [
    "def convert_jsonstr_to_dict(df):\n",
    "    columns_to_be_checked = ['new_car_overview', 'new_car_feature', 'new_car_specs']\n",
    "    for column in columns_to_be_checked:\n",
    "        df[column] = df[column].apply(lambda x: eval(x) if isinstance(x,str) else x)\n",
    "    return df"
   ]
  },
  {
   "cell_type": "code",
   "execution_count": 8,
   "metadata": {},
   "outputs": [],
   "source": [
    "def format_new_car_overview(record):\n",
    "    temp_dict = {}\n",
    "    top_items = record.get(\"top\",[])\n",
    "    for item in top_items:\n",
    "        key = item.get(\"key\")\n",
    "        value = item.get(\"value\")\n",
    "        temp_dict[key] = value\n",
    "    return temp_dict"
   ]
  },
  {
   "cell_type": "code",
   "execution_count": 9,
   "metadata": {},
   "outputs": [],
   "source": [
    "def format_new_car_feature(record):\n",
    "    temp_list = []\n",
    "    top_items = record.get(\"top\", [])\n",
    "    for item in top_items:\n",
    "        temp_list.append(item['value'])\n",
    "\n",
    "    data_items = record.get(\"data\", [])\n",
    "    for item in data_items:\n",
    "        sub_items = item.get(\"list\", [])\n",
    "        for sub_item in sub_items:\n",
    "            temp_list.append(sub_item['value'])\n",
    "\n",
    "    return temp_list"
   ]
  },
  {
   "cell_type": "code",
   "execution_count": 10,
   "metadata": {},
   "outputs": [],
   "source": [
    "def format_new_car_specs(record):\n",
    "    temp_dict = {}\n",
    "\n",
    "    top_items = record.get(\"top\",[])\n",
    "    for item in top_items:\n",
    "        if 'key' in item and 'value' in item:\n",
    "            temp_dict[item['key']] = item['value']\n",
    "\n",
    "    data_items = record.get(\"data\",[])\n",
    "    for item in data_items:\n",
    "        sub_items = item.get(\"list\",[])\n",
    "        for item in sub_items:\n",
    "            if 'key' in item and 'value' in item:\n",
    "                temp_dict[item['key']] = item['value']\n",
    "\n",
    "    return temp_dict"
   ]
  },
  {
   "cell_type": "code",
   "execution_count": 11,
   "metadata": {},
   "outputs": [],
   "source": [
    "def apply_data_extraction_to_columns(formatted_df):\n",
    "    formatted_df['new_car_detail'] = formatted_df['new_car_detail'].apply(lambda x: eval(x) if isinstance(x,str) else x)\n",
    "    formatted_df['new_car_overview'] = formatted_df['new_car_overview'].apply(lambda x: format_new_car_overview(x) if isinstance(x,dict) else x)\n",
    "    formatted_df['new_car_feature'] = formatted_df['new_car_feature'].apply(lambda x: format_new_car_feature(x) if isinstance(x,dict) else x)\n",
    "    formatted_df['new_car_specs'] = formatted_df['new_car_specs'].apply(lambda x: format_new_car_specs(x) if isinstance(x,dict) else x)\n",
    "    return formatted_df"
   ]
  },
  {
   "cell_type": "code",
   "execution_count": 12,
   "metadata": {},
   "outputs": [],
   "source": [
    "def main():\n",
    "    # Step 1: Concatenate data from multiple file paths and add city information\n",
    "    concatenated_df = add_city_and_concatenate(file_paths)\n",
    "    \n",
    "    # Step 2: Convert JSON strings in concatenated_df to dictionaries\n",
    "    formatted_df = convert_jsonstr_to_dict(concatenated_df)\n",
    "    \n",
    "    # Step 3: Apply data extraction to specific columns\n",
    "    extracted_df = apply_data_extraction_to_columns(formatted_df)\n",
    "\n",
    "    # Step 4: Flatten each nested column and create separate DataFrames\n",
    "    car_details = pd.DataFrame(extracted_df[\"new_car_detail\"].tolist())\n",
    "    car_overview = pd.DataFrame(extracted_df[\"new_car_overview\"].tolist())\n",
    "    car_specs = pd.DataFrame(extracted_df[\"new_car_specs\"].tolist())\n",
    "\n",
    "    # Step 5: Drop the original nested columns from extracted_df\n",
    "    extracted_df = extracted_df.drop(columns=[\"new_car_detail\", \"new_car_overview\", \"new_car_specs\"])\n",
    "\n",
    "    # Step 6: Concatenate the flattened DataFrames with extracted_df horizontally\n",
    "    flattened_df = pd.concat([extracted_df, car_details, car_overview, car_specs], axis=1)\n",
    "\n",
    "    # Return the final flattened DataFrame for further use\n",
    "    return flattened_df"
   ]
  },
  {
   "cell_type": "code",
   "execution_count": 13,
   "metadata": {},
   "outputs": [],
   "source": [
    "df = main()"
   ]
  },
  {
   "cell_type": "code",
   "execution_count": 14,
   "metadata": {},
   "outputs": [
    {
     "data": {
      "text/html": [
       "<div>\n",
       "<style scoped>\n",
       "    .dataframe tbody tr th:only-of-type {\n",
       "        vertical-align: middle;\n",
       "    }\n",
       "\n",
       "    .dataframe tbody tr th {\n",
       "        vertical-align: top;\n",
       "    }\n",
       "\n",
       "    .dataframe thead th {\n",
       "        text-align: right;\n",
       "    }\n",
       "</style>\n",
       "<table border=\"1\" class=\"dataframe\">\n",
       "  <thead>\n",
       "    <tr style=\"text-align: right;\">\n",
       "      <th></th>\n",
       "      <th>new_car_feature</th>\n",
       "      <th>car_links</th>\n",
       "      <th>city</th>\n",
       "      <th>it</th>\n",
       "      <th>ft</th>\n",
       "      <th>bt</th>\n",
       "      <th>km</th>\n",
       "      <th>transmission</th>\n",
       "      <th>ownerNo</th>\n",
       "      <th>owner</th>\n",
       "      <th>...</th>\n",
       "      <th>Front Brake Type</th>\n",
       "      <th>Rear Brake Type</th>\n",
       "      <th>Top Speed</th>\n",
       "      <th>Acceleration</th>\n",
       "      <th>Tyre Type</th>\n",
       "      <th>No Door Numbers</th>\n",
       "      <th>Cargo Volumn</th>\n",
       "      <th>Wheel Size</th>\n",
       "      <th>Alloy Wheel Size</th>\n",
       "      <th>Ground Clearance Unladen</th>\n",
       "    </tr>\n",
       "  </thead>\n",
       "  <tbody>\n",
       "    <tr>\n",
       "      <th>0</th>\n",
       "      <td>[Power Steering, Power Windows Front, Air Cond...</td>\n",
       "      <td>https://www.cardekho.com/used-car-details/used...</td>\n",
       "      <td>Bangalore</td>\n",
       "      <td>0</td>\n",
       "      <td>Petrol</td>\n",
       "      <td>Hatchback</td>\n",
       "      <td>1,20,000</td>\n",
       "      <td>Manual</td>\n",
       "      <td>3</td>\n",
       "      <td>3rd Owner</td>\n",
       "      <td>...</td>\n",
       "      <td>Ventilated Disc</td>\n",
       "      <td>Drum</td>\n",
       "      <td>150 Kmph</td>\n",
       "      <td>15.05 Seconds</td>\n",
       "      <td>Tubeless, Radial</td>\n",
       "      <td>5</td>\n",
       "      <td>235-litres</td>\n",
       "      <td>NaN</td>\n",
       "      <td>NaN</td>\n",
       "      <td>NaN</td>\n",
       "    </tr>\n",
       "    <tr>\n",
       "      <th>1</th>\n",
       "      <td>[Power Steering, Power Windows Front, Air Cond...</td>\n",
       "      <td>https://www.cardekho.com/buy-used-car-details/...</td>\n",
       "      <td>Bangalore</td>\n",
       "      <td>0</td>\n",
       "      <td>Petrol</td>\n",
       "      <td>SUV</td>\n",
       "      <td>32,706</td>\n",
       "      <td>Manual</td>\n",
       "      <td>2</td>\n",
       "      <td>2nd Owner</td>\n",
       "      <td>...</td>\n",
       "      <td>Ventilated Disc</td>\n",
       "      <td>Drum</td>\n",
       "      <td>NaN</td>\n",
       "      <td>NaN</td>\n",
       "      <td>Tubeless,Radial</td>\n",
       "      <td>4</td>\n",
       "      <td>352-litres</td>\n",
       "      <td>16</td>\n",
       "      <td>16</td>\n",
       "      <td>NaN</td>\n",
       "    </tr>\n",
       "  </tbody>\n",
       "</table>\n",
       "<p>2 rows × 70 columns</p>\n",
       "</div>"
      ],
      "text/plain": [
       "                                     new_car_feature  \\\n",
       "0  [Power Steering, Power Windows Front, Air Cond...   \n",
       "1  [Power Steering, Power Windows Front, Air Cond...   \n",
       "\n",
       "                                           car_links       city  it      ft  \\\n",
       "0  https://www.cardekho.com/used-car-details/used...  Bangalore   0  Petrol   \n",
       "1  https://www.cardekho.com/buy-used-car-details/...  Bangalore   0  Petrol   \n",
       "\n",
       "          bt        km transmission  ownerNo      owner  ... Front Brake Type  \\\n",
       "0  Hatchback  1,20,000       Manual        3  3rd Owner  ...  Ventilated Disc   \n",
       "1        SUV    32,706       Manual        2  2nd Owner  ...  Ventilated Disc   \n",
       "\n",
       "  Rear Brake Type  Top Speed   Acceleration         Tyre Type No Door Numbers  \\\n",
       "0            Drum   150 Kmph  15.05 Seconds  Tubeless, Radial               5   \n",
       "1            Drum        NaN            NaN   Tubeless,Radial               4   \n",
       "\n",
       "  Cargo Volumn Wheel Size Alloy Wheel Size Ground Clearance Unladen  \n",
       "0   235-litres        NaN              NaN                      NaN  \n",
       "1   352-litres         16               16                      NaN  \n",
       "\n",
       "[2 rows x 70 columns]"
      ]
     },
     "execution_count": 14,
     "metadata": {},
     "output_type": "execute_result"
    }
   ],
   "source": [
    "df.head(2)"
   ]
  },
  {
   "cell_type": "code",
   "execution_count": 15,
   "metadata": {},
   "outputs": [
    {
     "data": {
      "text/plain": [
       "Index(['new_car_feature', 'car_links', 'city', 'it', 'ft', 'bt', 'km',\n",
       "       'transmission', 'ownerNo', 'owner', 'oem', 'model', 'modelYear',\n",
       "       'centralVariantId', 'variantName', 'price', 'priceActual',\n",
       "       'priceSaving', 'priceFixedText', 'trendingText', 'Registration Year',\n",
       "       'Insurance Validity', 'Fuel Type', 'Seats', 'Kms Driven', 'RTO',\n",
       "       'Ownership', 'Engine Displacement', 'Transmission',\n",
       "       'Year of Manufacture', 'Mileage', 'Engine', 'Max Power', 'Torque',\n",
       "       'Seats', 'Color', 'Engine Type', 'Displacement', 'Max Torque',\n",
       "       'No of Cylinder', 'Values per Cylinder', 'Value Configuration',\n",
       "       'Fuel Suppy System', 'BoreX Stroke', 'Compression Ratio',\n",
       "       'Turbo Charger', 'Super Charger', 'Length', 'Width', 'Height',\n",
       "       'Wheel Base', 'Front Tread', 'Rear Tread', 'Kerb Weight',\n",
       "       'Gross Weight', 'Gear Box', 'Drive Type', 'Seating Capacity',\n",
       "       'Steering Type', 'Turning Radius', 'Front Brake Type',\n",
       "       'Rear Brake Type', 'Top Speed', 'Acceleration', 'Tyre Type',\n",
       "       'No Door Numbers', 'Cargo Volumn', 'Wheel Size', 'Alloy Wheel Size',\n",
       "       'Ground Clearance Unladen'],\n",
       "      dtype='object')"
      ]
     },
     "execution_count": 15,
     "metadata": {},
     "output_type": "execute_result"
    }
   ],
   "source": [
    "df.columns"
   ]
  },
  {
   "cell_type": "code",
   "execution_count": 16,
   "metadata": {},
   "outputs": [],
   "source": [
    "#Remove unwanted columns\n",
    "unwanted_columns = [\n",
    "    'new_car_feature', 'car_links', 'Insurance Validity', 'it', 'ft', 'bt', 'km', 'owner', 'centralVariantId', \n",
    "    'priceActual', 'priceSaving', 'priceFixedText', 'trendingText', 'Seats', \n",
    "    'RTO', 'Engine', 'Max Power', 'Torque', 'Color', 'Engine Type', \n",
    "    'Displacement', 'Max Torque', 'No of Cylinder', 'Values per Cylinder', \n",
    "    'Value Configuration', 'Fuel Suppy System', 'BoreX Stroke', 'Compression Ratio', \n",
    "    'Turbo Charger', 'Super Charger', 'Length', 'Width', 'Height', 'Wheel Base', \n",
    "    'Front Tread', 'Rear Tread', 'Kerb Weight', 'Gross Weight', 'Gear Box', \n",
    "    'Seating Capacity', 'Steering Type', 'Turning Radius', 'Front Brake Type', \n",
    "    'Rear Brake Type', 'Top Speed', 'Acceleration', 'Tyre Type', 'No Door Numbers', \n",
    "    'Cargo Volumn', 'Wheel Size', 'Alloy Wheel Size', 'Ground Clearance Unladen','Drive Type','Ownership','Year of Manufacture','Transmission'\n",
    "]\n",
    "\n",
    "trimmed_df = df.drop(columns=unwanted_columns)"
   ]
  },
  {
   "cell_type": "code",
   "execution_count": 17,
   "metadata": {},
   "outputs": [
    {
     "data": {
      "text/plain": [
       "Index(['city', 'transmission', 'ownerNo', 'oem', 'model', 'modelYear',\n",
       "       'variantName', 'price', 'Registration Year', 'Fuel Type', 'Kms Driven',\n",
       "       'Engine Displacement', 'Mileage'],\n",
       "      dtype='object')"
      ]
     },
     "execution_count": 17,
     "metadata": {},
     "output_type": "execute_result"
    }
   ],
   "source": [
    "trimmed_df.columns"
   ]
  },
  {
   "cell_type": "code",
   "execution_count": 18,
   "metadata": {},
   "outputs": [],
   "source": [
    "# Export it\n",
    "trimmed_df.to_csv(r\"SBS_Processed_Datasets/01_structured_output.csv\", index=False)"
   ]
  }
 ],
 "metadata": {
  "kernelspec": {
   "display_name": "Python 3",
   "language": "python",
   "name": "python3"
  },
  "language_info": {
   "codemirror_mode": {
    "name": "ipython",
    "version": 3
   },
   "file_extension": ".py",
   "mimetype": "text/x-python",
   "name": "python",
   "nbconvert_exporter": "python",
   "pygments_lexer": "ipython3",
   "version": "3.12.4"
  }
 },
 "nbformat": 4,
 "nbformat_minor": 2
}
