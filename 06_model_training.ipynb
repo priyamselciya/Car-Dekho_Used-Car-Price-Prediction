{
 "cells": [
  {
   "cell_type": "code",
   "execution_count": 1,
   "metadata": {},
   "outputs": [],
   "source": [
    "from sklearn.model_selection import train_test_split\n",
    "from sklearn.ensemble import RandomForestRegressor, GradientBoostingRegressor\n",
    "from sklearn.tree import DecisionTreeRegressor\n",
    "from sklearn.linear_model import LinearRegression\n",
    "from sklearn.metrics import mean_squared_error, mean_absolute_error, r2_score\n",
    "import pandas as pd\n",
    "import joblib\n",
    "from sklearn.model_selection import cross_val_score\n",
    "import matplotlib.pyplot as plt\n",
    "import seaborn as sns\n",
    "pd.set_option('display.max_columns', None)"
   ]
  },
  {
   "cell_type": "code",
   "execution_count": 2,
   "metadata": {},
   "outputs": [],
   "source": [
    "df_raw = pd.read_csv(r'SBS_Processed_Datasets/04_2_Non_scaled_dataframe.csv')\n",
    "df_scaled = pd.read_csv(r'SBS_Processed_Datasets/04_1_scaled_dataframe.csv')"
   ]
  },
  {
   "cell_type": "code",
   "execution_count": 3,
   "metadata": {},
   "outputs": [
    {
     "data": {
      "text/html": [
       "<div>\n",
       "<style scoped>\n",
       "    .dataframe tbody tr th:only-of-type {\n",
       "        vertical-align: middle;\n",
       "    }\n",
       "\n",
       "    .dataframe tbody tr th {\n",
       "        vertical-align: top;\n",
       "    }\n",
       "\n",
       "    .dataframe thead th {\n",
       "        text-align: right;\n",
       "    }\n",
       "</style>\n",
       "<table border=\"1\" class=\"dataframe\">\n",
       "  <thead>\n",
       "    <tr style=\"text-align: right;\">\n",
       "      <th></th>\n",
       "      <th>owner_no</th>\n",
       "      <th>model_year</th>\n",
       "      <th>price</th>\n",
       "      <th>registered_year</th>\n",
       "      <th>kms_driven</th>\n",
       "      <th>mileage_kmpl</th>\n",
       "      <th>engine_cc</th>\n",
       "      <th>car_age</th>\n",
       "      <th>model_age</th>\n",
       "      <th>registration_lag</th>\n",
       "      <th>normalized_model_age</th>\n",
       "      <th>mileage_normalized</th>\n",
       "      <th>high_mileage</th>\n",
       "      <th>multiple_owners</th>\n",
       "      <th>brand_popularity</th>\n",
       "      <th>kms_per_year</th>\n",
       "      <th>city_bangalore</th>\n",
       "      <th>city_chennai</th>\n",
       "      <th>city_delhi</th>\n",
       "      <th>city_hyderabad</th>\n",
       "      <th>city_jaipur</th>\n",
       "      <th>city_kolkata</th>\n",
       "      <th>transmission_automatic</th>\n",
       "      <th>transmission_manual</th>\n",
       "      <th>fuel_type_cng</th>\n",
       "      <th>fuel_type_diesel</th>\n",
       "      <th>fuel_type_lpg</th>\n",
       "      <th>fuel_type_petrol</th>\n",
       "      <th>kms_High</th>\n",
       "      <th>kms_Low</th>\n",
       "      <th>kms_Moderate</th>\n",
       "      <th>kms_Unused</th>\n",
       "      <th>kms_Very_Low</th>\n",
       "      <th>brand_encoded</th>\n",
       "      <th>variant_name_encoded</th>\n",
       "      <th>model_encoded</th>\n",
       "    </tr>\n",
       "  </thead>\n",
       "  <tbody>\n",
       "    <tr>\n",
       "      <th>0</th>\n",
       "      <td>3</td>\n",
       "      <td>2015</td>\n",
       "      <td>400000.0</td>\n",
       "      <td>2015</td>\n",
       "      <td>120000.0</td>\n",
       "      <td>23.1</td>\n",
       "      <td>998</td>\n",
       "      <td>9</td>\n",
       "      <td>9</td>\n",
       "      <td>0</td>\n",
       "      <td>0.900000</td>\n",
       "      <td>0.648876</td>\n",
       "      <td>0</td>\n",
       "      <td>1</td>\n",
       "      <td>504517.464043</td>\n",
       "      <td>12000.000000</td>\n",
       "      <td>True</td>\n",
       "      <td>False</td>\n",
       "      <td>False</td>\n",
       "      <td>False</td>\n",
       "      <td>False</td>\n",
       "      <td>False</td>\n",
       "      <td>False</td>\n",
       "      <td>True</td>\n",
       "      <td>False</td>\n",
       "      <td>False</td>\n",
       "      <td>False</td>\n",
       "      <td>True</td>\n",
       "      <td>True</td>\n",
       "      <td>False</td>\n",
       "      <td>False</td>\n",
       "      <td>False</td>\n",
       "      <td>False</td>\n",
       "      <td>19</td>\n",
       "      <td>424566.346883</td>\n",
       "      <td>440245.033113</td>\n",
       "    </tr>\n",
       "    <tr>\n",
       "      <th>1</th>\n",
       "      <td>2</td>\n",
       "      <td>2018</td>\n",
       "      <td>811000.0</td>\n",
       "      <td>2018</td>\n",
       "      <td>32706.0</td>\n",
       "      <td>17.0</td>\n",
       "      <td>1497</td>\n",
       "      <td>6</td>\n",
       "      <td>6</td>\n",
       "      <td>0</td>\n",
       "      <td>0.857143</td>\n",
       "      <td>0.477528</td>\n",
       "      <td>0</td>\n",
       "      <td>1</td>\n",
       "      <td>730169.934641</td>\n",
       "      <td>4672.285714</td>\n",
       "      <td>True</td>\n",
       "      <td>False</td>\n",
       "      <td>False</td>\n",
       "      <td>False</td>\n",
       "      <td>False</td>\n",
       "      <td>False</td>\n",
       "      <td>False</td>\n",
       "      <td>True</td>\n",
       "      <td>False</td>\n",
       "      <td>False</td>\n",
       "      <td>False</td>\n",
       "      <td>True</td>\n",
       "      <td>False</td>\n",
       "      <td>True</td>\n",
       "      <td>False</td>\n",
       "      <td>False</td>\n",
       "      <td>False</td>\n",
       "      <td>6</td>\n",
       "      <td>787214.285714</td>\n",
       "      <td>683109.090909</td>\n",
       "    </tr>\n",
       "  </tbody>\n",
       "</table>\n",
       "</div>"
      ],
      "text/plain": [
       "   owner_no  model_year     price  registered_year  kms_driven  mileage_kmpl  \\\n",
       "0         3        2015  400000.0             2015    120000.0          23.1   \n",
       "1         2        2018  811000.0             2018     32706.0          17.0   \n",
       "\n",
       "   engine_cc  car_age  model_age  registration_lag  normalized_model_age  \\\n",
       "0        998        9          9                 0              0.900000   \n",
       "1       1497        6          6                 0              0.857143   \n",
       "\n",
       "   mileage_normalized  high_mileage  multiple_owners  brand_popularity  \\\n",
       "0            0.648876             0                1     504517.464043   \n",
       "1            0.477528             0                1     730169.934641   \n",
       "\n",
       "   kms_per_year  city_bangalore  city_chennai  city_delhi  city_hyderabad  \\\n",
       "0  12000.000000            True         False       False           False   \n",
       "1   4672.285714            True         False       False           False   \n",
       "\n",
       "   city_jaipur  city_kolkata  transmission_automatic  transmission_manual  \\\n",
       "0        False         False                   False                 True   \n",
       "1        False         False                   False                 True   \n",
       "\n",
       "   fuel_type_cng  fuel_type_diesel  fuel_type_lpg  fuel_type_petrol  kms_High  \\\n",
       "0          False             False          False              True      True   \n",
       "1          False             False          False              True     False   \n",
       "\n",
       "   kms_Low  kms_Moderate  kms_Unused  kms_Very_Low  brand_encoded  \\\n",
       "0    False         False       False         False             19   \n",
       "1     True         False       False         False              6   \n",
       "\n",
       "   variant_name_encoded  model_encoded  \n",
       "0         424566.346883  440245.033113  \n",
       "1         787214.285714  683109.090909  "
      ]
     },
     "execution_count": 3,
     "metadata": {},
     "output_type": "execute_result"
    }
   ],
   "source": [
    "df_raw.head(2)"
   ]
  },
  {
   "cell_type": "code",
   "execution_count": 4,
   "metadata": {},
   "outputs": [
    {
     "data": {
      "text/html": [
       "<div>\n",
       "<style scoped>\n",
       "    .dataframe tbody tr th:only-of-type {\n",
       "        vertical-align: middle;\n",
       "    }\n",
       "\n",
       "    .dataframe tbody tr th {\n",
       "        vertical-align: top;\n",
       "    }\n",
       "\n",
       "    .dataframe thead th {\n",
       "        text-align: right;\n",
       "    }\n",
       "</style>\n",
       "<table border=\"1\" class=\"dataframe\">\n",
       "  <thead>\n",
       "    <tr style=\"text-align: right;\">\n",
       "      <th></th>\n",
       "      <th>owner_no</th>\n",
       "      <th>model_year</th>\n",
       "      <th>price</th>\n",
       "      <th>registered_year</th>\n",
       "      <th>kms_driven</th>\n",
       "      <th>mileage_kmpl</th>\n",
       "      <th>engine_cc</th>\n",
       "      <th>car_age</th>\n",
       "      <th>model_age</th>\n",
       "      <th>registration_lag</th>\n",
       "      <th>normalized_model_age</th>\n",
       "      <th>mileage_normalized</th>\n",
       "      <th>high_mileage</th>\n",
       "      <th>multiple_owners</th>\n",
       "      <th>brand_popularity</th>\n",
       "      <th>kms_per_year</th>\n",
       "      <th>city_bangalore</th>\n",
       "      <th>city_chennai</th>\n",
       "      <th>city_delhi</th>\n",
       "      <th>city_hyderabad</th>\n",
       "      <th>city_jaipur</th>\n",
       "      <th>city_kolkata</th>\n",
       "      <th>transmission_automatic</th>\n",
       "      <th>transmission_manual</th>\n",
       "      <th>fuel_type_cng</th>\n",
       "      <th>fuel_type_diesel</th>\n",
       "      <th>fuel_type_lpg</th>\n",
       "      <th>fuel_type_petrol</th>\n",
       "      <th>kms_High</th>\n",
       "      <th>kms_Low</th>\n",
       "      <th>kms_Moderate</th>\n",
       "      <th>kms_Unused</th>\n",
       "      <th>kms_Very_Low</th>\n",
       "      <th>brand_encoded</th>\n",
       "      <th>variant_name_encoded</th>\n",
       "      <th>model_encoded</th>\n",
       "    </tr>\n",
       "  </thead>\n",
       "  <tbody>\n",
       "    <tr>\n",
       "      <th>0</th>\n",
       "      <td>2.574311</td>\n",
       "      <td>2015</td>\n",
       "      <td>400000.0</td>\n",
       "      <td>2015</td>\n",
       "      <td>0.806674</td>\n",
       "      <td>1.064725</td>\n",
       "      <td>-0.911746</td>\n",
       "      <td>0.393063</td>\n",
       "      <td>0.376442</td>\n",
       "      <td>-0.211902</td>\n",
       "      <td>0.623137</td>\n",
       "      <td>1.064725</td>\n",
       "      <td>0</td>\n",
       "      <td>1</td>\n",
       "      <td>-0.514583</td>\n",
       "      <td>0.450117</td>\n",
       "      <td>True</td>\n",
       "      <td>False</td>\n",
       "      <td>False</td>\n",
       "      <td>False</td>\n",
       "      <td>False</td>\n",
       "      <td>False</td>\n",
       "      <td>False</td>\n",
       "      <td>True</td>\n",
       "      <td>False</td>\n",
       "      <td>False</td>\n",
       "      <td>False</td>\n",
       "      <td>True</td>\n",
       "      <td>True</td>\n",
       "      <td>False</td>\n",
       "      <td>False</td>\n",
       "      <td>False</td>\n",
       "      <td>False</td>\n",
       "      <td>19</td>\n",
       "      <td>424566.346883</td>\n",
       "      <td>440245.033113</td>\n",
       "    </tr>\n",
       "    <tr>\n",
       "      <th>1</th>\n",
       "      <td>0.999934</td>\n",
       "      <td>2018</td>\n",
       "      <td>811000.0</td>\n",
       "      <td>2018</td>\n",
       "      <td>-0.358532</td>\n",
       "      <td>-0.596649</td>\n",
       "      <td>0.160953</td>\n",
       "      <td>-0.383705</td>\n",
       "      <td>-0.402148</td>\n",
       "      <td>-0.211902</td>\n",
       "      <td>0.141273</td>\n",
       "      <td>-0.596649</td>\n",
       "      <td>0</td>\n",
       "      <td>1</td>\n",
       "      <td>-0.209796</td>\n",
       "      <td>-0.251381</td>\n",
       "      <td>True</td>\n",
       "      <td>False</td>\n",
       "      <td>False</td>\n",
       "      <td>False</td>\n",
       "      <td>False</td>\n",
       "      <td>False</td>\n",
       "      <td>False</td>\n",
       "      <td>True</td>\n",
       "      <td>False</td>\n",
       "      <td>False</td>\n",
       "      <td>False</td>\n",
       "      <td>True</td>\n",
       "      <td>False</td>\n",
       "      <td>True</td>\n",
       "      <td>False</td>\n",
       "      <td>False</td>\n",
       "      <td>False</td>\n",
       "      <td>6</td>\n",
       "      <td>787214.285714</td>\n",
       "      <td>683109.090909</td>\n",
       "    </tr>\n",
       "  </tbody>\n",
       "</table>\n",
       "</div>"
      ],
      "text/plain": [
       "   owner_no  model_year     price  registered_year  kms_driven  mileage_kmpl  \\\n",
       "0  2.574311        2015  400000.0             2015    0.806674      1.064725   \n",
       "1  0.999934        2018  811000.0             2018   -0.358532     -0.596649   \n",
       "\n",
       "   engine_cc   car_age  model_age  registration_lag  normalized_model_age  \\\n",
       "0  -0.911746  0.393063   0.376442         -0.211902              0.623137   \n",
       "1   0.160953 -0.383705  -0.402148         -0.211902              0.141273   \n",
       "\n",
       "   mileage_normalized  high_mileage  multiple_owners  brand_popularity  \\\n",
       "0            1.064725             0                1         -0.514583   \n",
       "1           -0.596649             0                1         -0.209796   \n",
       "\n",
       "   kms_per_year  city_bangalore  city_chennai  city_delhi  city_hyderabad  \\\n",
       "0      0.450117            True         False       False           False   \n",
       "1     -0.251381            True         False       False           False   \n",
       "\n",
       "   city_jaipur  city_kolkata  transmission_automatic  transmission_manual  \\\n",
       "0        False         False                   False                 True   \n",
       "1        False         False                   False                 True   \n",
       "\n",
       "   fuel_type_cng  fuel_type_diesel  fuel_type_lpg  fuel_type_petrol  kms_High  \\\n",
       "0          False             False          False              True      True   \n",
       "1          False             False          False              True     False   \n",
       "\n",
       "   kms_Low  kms_Moderate  kms_Unused  kms_Very_Low  brand_encoded  \\\n",
       "0    False         False       False         False             19   \n",
       "1     True         False       False         False              6   \n",
       "\n",
       "   variant_name_encoded  model_encoded  \n",
       "0         424566.346883  440245.033113  \n",
       "1         787214.285714  683109.090909  "
      ]
     },
     "execution_count": 4,
     "metadata": {},
     "output_type": "execute_result"
    }
   ],
   "source": [
    "df_scaled.head(2)"
   ]
  },
  {
   "cell_type": "code",
   "execution_count": 5,
   "metadata": {},
   "outputs": [
    {
     "data": {
      "text/plain": [
       "Index(['owner_no', 'model_year', 'price', 'registered_year', 'kms_driven',\n",
       "       'mileage_kmpl', 'engine_cc', 'car_age', 'model_age', 'registration_lag',\n",
       "       'normalized_model_age', 'mileage_normalized', 'high_mileage',\n",
       "       'multiple_owners', 'brand_popularity', 'kms_per_year', 'city_bangalore',\n",
       "       'city_chennai', 'city_delhi', 'city_hyderabad', 'city_jaipur',\n",
       "       'city_kolkata', 'transmission_automatic', 'transmission_manual',\n",
       "       'fuel_type_cng', 'fuel_type_diesel', 'fuel_type_lpg',\n",
       "       'fuel_type_petrol', 'kms_High', 'kms_Low', 'kms_Moderate', 'kms_Unused',\n",
       "       'kms_Very_Low', 'brand_encoded', 'variant_name_encoded',\n",
       "       'model_encoded'],\n",
       "      dtype='object')"
      ]
     },
     "execution_count": 5,
     "metadata": {},
     "output_type": "execute_result"
    }
   ],
   "source": [
    "df_raw.columns"
   ]
  },
  {
   "cell_type": "code",
   "execution_count": 6,
   "metadata": {},
   "outputs": [],
   "source": [
    "# from sklearn.model_selection import train_test_split\n",
    "\n",
    "# Target column\n",
    "y = df_raw['price']\n",
    "\n",
    "# Scaled dataset\n",
    "X_scaled = df_scaled.drop('price', axis=1)\n",
    "X_scaled_train, X_scaled_test, y_train, y_test = train_test_split(X_scaled, y, test_size=0.2, random_state=42)\n",
    "\n",
    "# Unscaled (raw) dataset\n",
    "X_raw = df_raw.drop('price', axis=1)\n",
    "X_raw_train, X_raw_test, y_train, y_test = train_test_split(X_raw, y, test_size=0.2, random_state=42)"
   ]
  },
  {
   "cell_type": "markdown",
   "metadata": {},
   "source": [
    "ModelTraining\n",
    "Linear Regression (Scaled Data)"
   ]
  },
  {
   "cell_type": "code",
   "execution_count": 7,
   "metadata": {},
   "outputs": [
    {
     "name": "stdout",
     "output_type": "stream",
     "text": [
      "Linear Regression Performance:\n",
      "MAE: 122134.75869478131\n",
      "MSE: 63696870729.89777\n",
      "R²: 0.9364351782978217\n"
     ]
    }
   ],
   "source": [
    "# from sklearn.linear_model import LinearRegression\n",
    "# from sklearn.metrics import mean_absolute_error, mean_squared_error, r2_score\n",
    "\n",
    "# Train Linear Regression on scaled data\n",
    "lr = LinearRegression()\n",
    "lr.fit(X_scaled_train, y_train)\n",
    "\n",
    "# Predictions\n",
    "y_pred = lr.predict(X_scaled_test)\n",
    "\n",
    "# Evaluation\n",
    "print(\"Linear Regression Performance:\")\n",
    "print(\"MAE:\", mean_absolute_error(y_test, y_pred))\n",
    "print(\"MSE:\", mean_squared_error(y_test, y_pred))\n",
    "print(\"R²:\", r2_score(y_test, y_pred))"
   ]
  },
  {
   "cell_type": "markdown",
   "metadata": {},
   "source": [
    "Decision Tree (Raw Data)"
   ]
  },
  {
   "cell_type": "code",
   "execution_count": 8,
   "metadata": {},
   "outputs": [
    {
     "name": "stdout",
     "output_type": "stream",
     "text": [
      "Decision Tree Performance:\n",
      "MAE: 125149.54726674886\n",
      "MSE: 65539901527.45588\n",
      "R²: 0.934595968259778\n"
     ]
    }
   ],
   "source": [
    "# from sklearn.tree import DecisionTreeRegressor\n",
    "\n",
    "# Train Decision Tree\n",
    "dt = DecisionTreeRegressor(random_state=42)\n",
    "dt.fit(X_raw_train, y_train)\n",
    "\n",
    "# Predictions and Evaluation\n",
    "y_pred_dt = dt.predict(X_raw_test)\n",
    "print(\"Decision Tree Performance:\")\n",
    "print(\"MAE:\", mean_absolute_error(y_test, y_pred_dt))\n",
    "print(\"MSE:\", mean_squared_error(y_test, y_pred_dt))\n",
    "print(\"R²:\", r2_score(y_test, y_pred_dt))"
   ]
  },
  {
   "cell_type": "markdown",
   "metadata": {},
   "source": [
    "Random Forest (Raw Data)"
   ]
  },
  {
   "cell_type": "code",
   "execution_count": 9,
   "metadata": {},
   "outputs": [
    {
     "name": "stdout",
     "output_type": "stream",
     "text": [
      "Random Forest Performance:\n",
      "MAE: 94474.77257628244\n",
      "MSE: 47428515706.330864\n",
      "R²: 0.9526698076384965\n"
     ]
    }
   ],
   "source": [
    "# from sklearn.ensemble import RandomForestRegressor\n",
    "\n",
    "# Train Random Forest\n",
    "rf = RandomForestRegressor(random_state=42, n_estimators=100)\n",
    "rf.fit(X_raw_train, y_train)\n",
    "\n",
    "# Predictions and Evaluation\n",
    "y_pred_rf = rf.predict(X_raw_test)\n",
    "print(\"Random Forest Performance:\")\n",
    "print(\"MAE:\", mean_absolute_error(y_test, y_pred_rf))\n",
    "print(\"MSE:\", mean_squared_error(y_test, y_pred_rf))\n",
    "print(\"R²:\", r2_score(y_test, y_pred_rf))"
   ]
  },
  {
   "cell_type": "markdown",
   "metadata": {},
   "source": [
    "Gradient Boosting (Raw Data)"
   ]
  },
  {
   "cell_type": "code",
   "execution_count": 10,
   "metadata": {},
   "outputs": [
    {
     "name": "stdout",
     "output_type": "stream",
     "text": [
      "Gradient Boosting Performance:\n",
      "MAE: 110198.54294047544\n",
      "MSE: 64602298655.37504\n",
      "R²: 0.9355316274014019\n"
     ]
    }
   ],
   "source": [
    "# from sklearn.ensemble import GradientBoostingRegressor\n",
    "\n",
    "# Train Gradient Boosting\n",
    "gb = GradientBoostingRegressor(random_state=42, n_estimators=100, learning_rate=0.1)\n",
    "gb.fit(X_raw_train, y_train)\n",
    "\n",
    "# Predictions and Evaluation\n",
    "y_pred_gb = gb.predict(X_raw_test)\n",
    "print(\"Gradient Boosting Performance:\")\n",
    "print(\"MAE:\", mean_absolute_error(y_test, y_pred_gb))\n",
    "print(\"MSE:\", mean_squared_error(y_test, y_pred_gb))\n",
    "print(\"R²:\", r2_score(y_test, y_pred_gb))"
   ]
  },
  {
   "cell_type": "code",
   "execution_count": 11,
   "metadata": {},
   "outputs": [
    {
     "name": "stdout",
     "output_type": "stream",
     "text": [
      "               Model            MAE           MSE        R²\n",
      "0  Linear Regression  122134.758695  6.369687e+10  0.936435\n",
      "1      Decision Tree  125149.547267  6.553990e+10  0.934596\n",
      "2      Random Forest   94474.772576  4.742852e+10  0.952670\n",
      "3  Gradient Boosting  110198.542940  6.460230e+10  0.935532\n"
     ]
    }
   ],
   "source": [
    "# Collect model performance metrics\n",
    "results = {\n",
    "    \"Model\": [\"Linear Regression\", \"Decision Tree\", \"Random Forest\", \"Gradient Boosting\"],\n",
    "    \"MAE\": [\n",
    "        mean_absolute_error(y_test, y_pred),        # Linear Regression\n",
    "        mean_absolute_error(y_test, y_pred_dt),    # Decision Tree\n",
    "        mean_absolute_error(y_test, y_pred_rf),    # Random Forest\n",
    "        mean_absolute_error(y_test, y_pred_gb)     # Gradient Boosting\n",
    "    ],\n",
    "    \"MSE\": [\n",
    "        mean_squared_error(y_test, y_pred),        # Linear Regression\n",
    "        mean_squared_error(y_test, y_pred_dt),    # Decision Tree\n",
    "        mean_squared_error(y_test, y_pred_rf),    # Random Forest\n",
    "        mean_squared_error(y_test, y_pred_gb)     # Gradient Boosting\n",
    "    ],\n",
    "    \"R²\": [\n",
    "        r2_score(y_test, y_pred),                 # Linear Regression\n",
    "        r2_score(y_test, y_pred_dt),             # Decision Tree\n",
    "        r2_score(y_test, y_pred_rf),             # Random Forest\n",
    "        r2_score(y_test, y_pred_gb)              # Gradient Boosting\n",
    "    ]\n",
    "}\n",
    "\n",
    "# Create a results DataFrame\n",
    "results_df = pd.DataFrame(results)\n",
    "\n",
    "# Display results\n",
    "print(results_df)"
   ]
  },
  {
   "cell_type": "markdown",
   "metadata": {},
   "source": [
    "As per results RANDOM_FOREST Performs best"
   ]
  },
  {
   "cell_type": "code",
   "execution_count": 12,
   "metadata": {},
   "outputs": [
    {
     "data": {
      "image/png": "[encoded data removed]",
      "text/plain": [
       "<Figure size 1000x600 with 1 Axes>"
      ]
     },
     "metadata": {},
     "output_type": "display_data"
    }
   ],
   "source": [
    "# RANDOM FOREST VISUALIZATION\n",
    "import matplotlib.pyplot as plt\n",
    "\n",
    "feature_importances = rf.feature_importances_\n",
    "features = X_raw.columns\n",
    "\n",
    "plt.figure(figsize=(10, 6))\n",
    "plt.barh(features, feature_importances)\n",
    "plt.xlabel('Feature Importance')\n",
    "plt.title('Random Forest Feature Importance')\n",
    "plt.show()"
   ]
  },
  {
   "cell_type": "markdown",
   "metadata": {},
   "source": [
    "HYPER TUNING"
   ]
  },
  {
   "cell_type": "code",
   "execution_count": 13,
   "metadata": {},
   "outputs": [
    {
     "name": "stdout",
     "output_type": "stream",
     "text": [
      "Best Parameters for Random Forest: {'n_estimators': 200, 'min_samples_split': 2, 'min_samples_leaf': 2, 'max_depth': 30}\n",
      "Optimized Random Forest Performance:\n",
      "MAE: 95296.18581989898\n",
      "MSE: 49703300519.561806\n",
      "R²: 0.9503997386475567\n"
     ]
    }
   ],
   "source": [
    "from sklearn.ensemble import RandomForestRegressor\n",
    "from sklearn.model_selection import RandomizedSearchCV\n",
    "from sklearn.metrics import mean_absolute_error, mean_squared_error, r2_score\n",
    "\n",
    "# Initialize Random Forest Regressor\n",
    "rf = RandomForestRegressor(random_state=42)\n",
    "\n",
    "# Parameter grid\n",
    "param_grid_rf = {\n",
    "    'n_estimators': [50, 100, 200],\n",
    "    'max_depth': [10, 20, 30, None],\n",
    "    'min_samples_split': [2, 5, 10],\n",
    "    'min_samples_leaf': [1, 2, 4]\n",
    "}\n",
    "\n",
    "# Randomized Search\n",
    "rf_random = RandomizedSearchCV(estimator=rf, param_distributions=param_grid_rf, \n",
    "                               n_iter=50, cv=3, random_state=42, n_jobs=-1)\n",
    "rf_random.fit(X_raw_train, y_train)\n",
    "\n",
    "# Best Parameters\n",
    "print(\"Best Parameters for Random Forest:\", rf_random.best_params_)\n",
    "\n",
    "# Best model evaluation\n",
    "best_rf = rf_random.best_estimator_\n",
    "y_pred_best_rf = best_rf.predict(X_raw_test)\n",
    "\n",
    "print(\"Optimized Random Forest Performance:\")\n",
    "print(\"MAE:\", mean_absolute_error(y_test, y_pred_best_rf))\n",
    "print(\"MSE:\", mean_squared_error(y_test, y_pred_best_rf))\n",
    "print(\"R²:\", r2_score(y_test, y_pred_best_rf))\n"
   ]
  },
  {
   "cell_type": "code",
   "execution_count": 15,
   "metadata": {},
   "outputs": [
    {
     "name": "stdout",
     "output_type": "stream",
     "text": [
      "Optimized Random Forest model saved as 'optimized_random_forest_model.pkl'\n"
     ]
    }
   ],
   "source": [
    "# import joblib\n",
    "\n",
    "# Save the best-tuned Random Forest model\n",
    "joblib.dump(best_rf, 'optimized_random_forest_model.pkl')\n",
    "joblib.dump(X_raw.columns.tolist(), r'PKL_Files/model_columns.pkl')  # Save column names\n",
    "\n",
    "print(\"Optimized Random Forest model saved as 'optimized_random_forest_model.pkl'\")"
   ]
  },
  {
   "cell_type": "code",
   "execution_count": 16,
   "metadata": {},
   "outputs": [
    {
     "data": {
      "text/plain": [
       "Index(['owner_no', 'model_year', 'registered_year', 'kms_driven',\n",
       "       'mileage_kmpl', 'engine_cc', 'car_age', 'model_age', 'registration_lag',\n",
       "       'normalized_model_age', 'mileage_normalized', 'high_mileage',\n",
       "       'multiple_owners', 'brand_popularity', 'kms_per_year', 'city_bangalore',\n",
       "       'city_chennai', 'city_delhi', 'city_hyderabad', 'city_jaipur',\n",
       "       'city_kolkata', 'transmission_automatic', 'transmission_manual',\n",
       "       'fuel_type_cng', 'fuel_type_diesel', 'fuel_type_lpg',\n",
       "       'fuel_type_petrol', 'kms_High', 'kms_Low', 'kms_Moderate', 'kms_Unused',\n",
       "       'kms_Very_Low', 'brand_encoded', 'variant_name_encoded',\n",
       "       'model_encoded'],\n",
       "      dtype='object')"
      ]
     },
     "execution_count": 16,
     "metadata": {},
     "output_type": "execute_result"
    }
   ],
   "source": [
    "X_raw.columns"
   ]
  },
  {
   "cell_type": "code",
   "execution_count": 17,
   "metadata": {},
   "outputs": [
    {
     "data": {
      "text/plain": [
       "Index(['owner_no', 'model_year', 'registered_year', 'kms_driven',\n",
       "       'mileage_kmpl', 'engine_cc', 'car_age', 'model_age', 'registration_lag',\n",
       "       'normalized_model_age', 'mileage_normalized', 'high_mileage',\n",
       "       'multiple_owners', 'brand_popularity', 'kms_per_year', 'city_bangalore',\n",
       "       'city_chennai', 'city_delhi', 'city_hyderabad', 'city_jaipur',\n",
       "       'city_kolkata', 'transmission_automatic', 'transmission_manual',\n",
       "       'fuel_type_cng', 'fuel_type_diesel', 'fuel_type_lpg',\n",
       "       'fuel_type_petrol', 'kms_High', 'kms_Low', 'kms_Moderate', 'kms_Unused',\n",
       "       'kms_Very_Low', 'brand_encoded', 'variant_name_encoded',\n",
       "       'model_encoded'],\n",
       "      dtype='object')"
      ]
     },
     "execution_count": 17,
     "metadata": {},
     "output_type": "execute_result"
    }
   ],
   "source": [
    "X_scaled.columns"
   ]
  },
  {
   "cell_type": "code",
   "execution_count": null,
   "metadata": {},
   "outputs": [],
   "source": []
  }
 ],
 "metadata": {
  "kernelspec": {
   "display_name": "Python 3",
   "language": "python",
   "name": "python3"
  },
  "language_info": {
   "codemirror_mode": {
    "name": "ipython",
    "version": 3
   },
   "file_extension": ".py",
   "mimetype": "text/x-python",
   "name": "python",
   "nbconvert_exporter": "python",
   "pygments_lexer": "ipython3",
   "version": "3.12.4"
  }
 },
 "nbformat": 4,
 "nbformat_minor": 2
}
